{
 "cells": [
  {
   "cell_type": "code",
   "execution_count": 70,
   "metadata": {},
   "outputs": [],
   "source": [
    "import numpy as np\n",
    "from keras import layers\n",
    "from keras.layers import Input, Dense, Activation, ZeroPadding2D, BatchNormalization, Flatten, Conv2D\n",
    "from keras.layers import AveragePooling2D, MaxPooling2D, Dropout, GlobalMaxPooling2D, GlobalAveragePooling2D\n",
    "from keras.models import Model\n",
    "from keras.preprocessing import image\n",
    "from keras.utils import layer_utils\n",
    "from keras.utils.data_utils import get_file\n",
    "from keras.applications.imagenet_utils import preprocess_input\n",
    "import pydot\n",
    "from IPython.display import SVG\n",
    "from keras.utils.vis_utils import model_to_dot\n",
    "from keras.utils import plot_model\n",
    "from kt_utils import *\n",
    "\n",
    "import keras.backend as K\n",
    "K.set_image_data_format('channels_last')\n",
    "import matplotlib.pyplot as plt\n",
    "from matplotlib.pyplot import imshow\n",
    "\n",
    "%matplotlib inline"
   ]
  },
  {
   "cell_type": "code",
   "execution_count": 71,
   "metadata": {},
   "outputs": [
    {
     "name": "stdout",
     "output_type": "stream",
     "text": [
      "number of training examples = 600\n",
      "number of test examples = 150\n",
      "X_train shape: (600, 64, 64, 3)\n",
      "Y_train shape: (600, 1)\n",
      "X_test shape: (150, 64, 64, 3)\n",
      "Y_test shape: (150, 1)\n"
     ]
    }
   ],
   "source": [
    "X_train_orig, Y_train_orig, X_test_orig, Y_test_orig, classes = load_dataset()\n",
    "\n",
    "# Normalize image vectors\n",
    "X_train = X_train_orig/255.\n",
    "X_test = X_test_orig/255.\n",
    "\n",
    "# Reshape:taking transpose\n",
    "Y_train = Y_train_orig.T\n",
    "Y_test = Y_test_orig.T\n",
    "\n",
    "# print(X_train_orig.shape)\n",
    "# print(Y_train_orig.shape)\n",
    "print (\"number of training examples = \" + str(X_train.shape[0]))\n",
    "print (\"number of test examples = \" + str(X_test.shape[0]))\n",
    "print (\"X_train shape: \" + str(X_train.shape))\n",
    "print (\"Y_train shape: \" + str(Y_train.shape))\n",
    "print (\"X_test shape: \" + str(X_test.shape))\n",
    "print (\"Y_test shape: \" + str(Y_test.shape))"
   ]
  },
  {
   "cell_type": "code",
   "execution_count": 84,
   "metadata": {},
   "outputs": [
    {
     "data": {
      "text/plain": [
       "<matplotlib.image.AxesImage at 0x19131f5a088>"
      ]
     },
     "execution_count": 84,
     "metadata": {},
     "output_type": "execute_result"
    },
    {
     "data": {
      "image/png": "[encoded data removed]",
      "text/plain": [
       "<Figure size 432x288 with 1 Axes>"
      ]
     },
     "metadata": {
      "needs_background": "light"
     },
     "output_type": "display_data"
    }
   ],
   "source": [
    "plt.imshow(X_train[10])"
   ]
  },
  {
   "cell_type": "code",
   "execution_count": 85,
   "metadata": {},
   "outputs": [
    {
     "data": {
      "text/plain": [
       "array([0], dtype=int64)"
      ]
     },
     "execution_count": 85,
     "metadata": {},
     "output_type": "execute_result"
    }
   ],
   "source": [
    "Y_train[10]"
   ]
  },
  {
   "cell_type": "code",
   "execution_count": 74,
   "metadata": {},
   "outputs": [
    {
     "data": {
      "text/plain": [
       "array([0, 1], dtype=int64)"
      ]
     },
     "execution_count": 74,
     "metadata": {},
     "output_type": "execute_result"
    }
   ],
   "source": [
    "classes # 0:sad, 1:happy"
   ]
  },
  {
   "cell_type": "code",
   "execution_count": 138,
   "metadata": {},
   "outputs": [],
   "source": [
    "# GRADED FUNCTION: HappyModel\n",
    "\n",
    "def HappyModel(input_shape):\n",
    "    \n",
    "    # Define the input placeholder as a tensor with shape input_shape. Think of this as your input image!\n",
    "    X_input = Input(input_shape)\n",
    "\n",
    "    # Zero-Padding: pads the border of X_input with zeroes\n",
    "    X = ZeroPadding2D((3, 3))(X_input)\n",
    "    print(\"padded \",X.shape)\n",
    "\n",
    "    # CONV -> BN -> RELU Block applied to X\n",
    "    X = Conv2D(32, (7, 7), strides = 1, name = 'conv0')(X)\n",
    "    X = BatchNormalization(axis = 3, name = 'bn0')(X)\n",
    "    X = Activation('relu')(X)\n",
    "    \n",
    "    # MAXPOOL\n",
    "    X = MaxPooling2D((2, 2), name='max_pool')(X)\n",
    "\n",
    "    # FLATTEN X (means convert it to a vector) + FULLYCONNECTED\n",
    "    X = Flatten()(X)\n",
    "    X = Dense(1, activation='sigmoid', name='fc')(X)\n",
    "    # Create model. This creates your Keras model instance, you'll use this instance to train/test the model.\n",
    "    model = Model(inputs = X_input, outputs = X, name='HappyModel')\n",
    "\n",
    "    return model"
   ]
  },
  {
   "cell_type": "code",
   "execution_count": 139,
   "metadata": {},
   "outputs": [
    {
     "name": "stdout",
     "output_type": "stream",
     "text": [
      "padded  (?, 70, 70, 3)\n"
     ]
    }
   ],
   "source": [
    "happy_model=HappyModel(X_train.shape[1:])"
   ]
  },
  {
   "cell_type": "code",
   "execution_count": 140,
   "metadata": {},
   "outputs": [],
   "source": [
    "happy_model.compile(optimizer = \"adam\", loss ='binary_crossentropy', metrics = [\"accuracy\"])"
   ]
  },
  {
   "cell_type": "code",
   "execution_count": 141,
   "metadata": {},
   "outputs": [
    {
     "name": "stdout",
     "output_type": "stream",
     "text": [
      "Epoch 1/40\n",
      "600/600 [==============================] - 4s 7ms/step - loss: 1.6364 - accuracy: 0.6150\n",
      "Epoch 2/40\n",
      "600/600 [==============================] - 3s 6ms/step - loss: 0.2933 - accuracy: 0.8817\n",
      "Epoch 3/40\n",
      "600/600 [==============================] - 4s 6ms/step - loss: 0.1489 - accuracy: 0.9450\n",
      "Epoch 4/40\n",
      "600/600 [==============================] - 4s 6ms/step - loss: 0.1289 - accuracy: 0.9483\n",
      "Epoch 5/40\n",
      "600/600 [==============================] - 3s 6ms/step - loss: 0.1420 - accuracy: 0.9383\n",
      "Epoch 6/40\n",
      "600/600 [==============================] - 3s 6ms/step - loss: 0.0980 - accuracy: 0.9667\n",
      "Epoch 7/40\n",
      "600/600 [==============================] - 3s 6ms/step - loss: 0.0730 - accuracy: 0.9783\n",
      "Epoch 8/40\n",
      "600/600 [==============================] - 4s 6ms/step - loss: 0.0983 - accuracy: 0.9583\n",
      "Epoch 9/40\n",
      "600/600 [==============================] - 3s 6ms/step - loss: 0.1299 - accuracy: 0.9450\n",
      "Epoch 10/40\n",
      "600/600 [==============================] - 3s 6ms/step - loss: 0.0608 - accuracy: 0.9800\n",
      "Epoch 11/40\n",
      "600/600 [==============================] - 3s 6ms/step - loss: 0.0557 - accuracy: 0.9833\n",
      "Epoch 12/40\n",
      "600/600 [==============================] - 3s 6ms/step - loss: 0.0460 - accuracy: 0.9867\n",
      "Epoch 13/40\n",
      "600/600 [==============================] - 3s 6ms/step - loss: 0.0368 - accuracy: 0.9867\n",
      "Epoch 14/40\n",
      "600/600 [==============================] - 3s 6ms/step - loss: 0.0553 - accuracy: 0.9833\n",
      "Epoch 15/40\n",
      "600/600 [==============================] - 3s 6ms/step - loss: 0.0396 - accuracy: 0.9900\n",
      "Epoch 16/40\n",
      "600/600 [==============================] - 3s 6ms/step - loss: 0.0402 - accuracy: 0.9900\n",
      "Epoch 17/40\n",
      "600/600 [==============================] - 4s 7ms/step - loss: 0.0456 - accuracy: 0.9867\n",
      "Epoch 18/40\n",
      "600/600 [==============================] - 4s 6ms/step - loss: 0.0262 - accuracy: 0.9933\n",
      "Epoch 19/40\n",
      "600/600 [==============================] - 3s 6ms/step - loss: 0.0488 - accuracy: 0.9817\n",
      "Epoch 20/40\n",
      "600/600 [==============================] - 3s 6ms/step - loss: 0.0237 - accuracy: 0.9900\n",
      "Epoch 21/40\n",
      "600/600 [==============================] - 4s 6ms/step - loss: 0.0320 - accuracy: 0.9900\n",
      "Epoch 22/40\n",
      "600/600 [==============================] - 4s 6ms/step - loss: 0.0181 - accuracy: 0.9950\n",
      "Epoch 23/40\n",
      "600/600 [==============================] - 3s 6ms/step - loss: 0.0322 - accuracy: 0.9883\n",
      "Epoch 24/40\n",
      "600/600 [==============================] - 3s 6ms/step - loss: 0.0402 - accuracy: 0.9867\n",
      "Epoch 25/40\n",
      "600/600 [==============================] - 3s 6ms/step - loss: 0.0239 - accuracy: 0.9950\n",
      "Epoch 26/40\n",
      "600/600 [==============================] - 4s 6ms/step - loss: 0.0188 - accuracy: 0.9933\n",
      "Epoch 27/40\n",
      "600/600 [==============================] - 3s 6ms/step - loss: 0.0196 - accuracy: 0.9967\n",
      "Epoch 28/40\n",
      "600/600 [==============================] - 4s 6ms/step - loss: 0.0166 - accuracy: 0.9950\n",
      "Epoch 29/40\n",
      "600/600 [==============================] - 4s 6ms/step - loss: 0.0269 - accuracy: 0.9900\n",
      "Epoch 30/40\n",
      "600/600 [==============================] - 4s 6ms/step - loss: 0.0239 - accuracy: 0.9950\n",
      "Epoch 31/40\n",
      "600/600 [==============================] - 4s 6ms/step - loss: 0.0089 - accuracy: 1.0000\n",
      "Epoch 32/40\n",
      "600/600 [==============================] - 3s 6ms/step - loss: 0.0115 - accuracy: 0.9950\n",
      "Epoch 33/40\n",
      "600/600 [==============================] - 3s 6ms/step - loss: 0.0267 - accuracy: 0.9900\n",
      "Epoch 34/40\n",
      "600/600 [==============================] - 3s 6ms/step - loss: 0.0358 - accuracy: 0.9883: 3s\n",
      "Epoch 35/40\n",
      "600/600 [==============================] - 4s 6ms/step - loss: 0.0235 - accuracy: 0.9933\n",
      "Epoch 36/40\n",
      "600/600 [==============================] - 3s 6ms/step - loss: 0.0085 - accuracy: 0.9983\n",
      "Epoch 37/40\n",
      "600/600 [==============================] - 3s 6ms/step - loss: 0.0085 - accuracy: 0.9967\n",
      "Epoch 38/40\n",
      "600/600 [==============================] - 3s 6ms/step - loss: 0.0051 - accuracy: 1.0000\n",
      "Epoch 39/40\n",
      "600/600 [==============================] - 3s 6ms/step - loss: 0.0113 - accuracy: 0.9967\n",
      "Epoch 40/40\n",
      "600/600 [==============================] - 4s 6ms/step - loss: 0.0201 - accuracy: 0.9933\n"
     ]
    },
    {
     "data": {
      "text/plain": [
       "<keras.callbacks.callbacks.History at 0x19136692f08>"
      ]
     },
     "execution_count": 141,
     "metadata": {},
     "output_type": "execute_result"
    }
   ],
   "source": [
    "happy_model.fit(x = X_train , y = Y_train, epochs = 40, batch_size = 32)"
   ]
  },
  {
   "cell_type": "code",
   "execution_count": 142,
   "metadata": {},
   "outputs": [
    {
     "name": "stdout",
     "output_type": "stream",
     "text": [
      "600/600 [==============================] - 2s 4ms/step\n",
      "loss=  0.26743546247482297\n",
      "Train Accuracy  0.8683333396911621\n"
     ]
    }
   ],
   "source": [
    "pred=happy_model.evaluate(x = X_train, y = Y_train)\n",
    "print(\"loss= \",pred[0])\n",
    "print(\"Train Accuracy \",pred[1])"
   ]
  },
  {
   "cell_type": "code",
   "execution_count": 143,
   "metadata": {},
   "outputs": [
    {
     "name": "stdout",
     "output_type": "stream",
     "text": [
      "150/150 [==============================] - 1s 4ms/step\n",
      "Loss = 0.41755484104156493\n",
      "Test Accuracy = 0.8399999737739563\n"
     ]
    }
   ],
   "source": [
    "preds = happy_model.evaluate(x = X_test, y = Y_test)\n",
    "print (\"Loss = \" + str(preds[0]))\n",
    "print (\"Test Accuracy = \" + str(preds[1]))"
   ]
  },
  {
   "cell_type": "code",
   "execution_count": 144,
   "metadata": {},
   "outputs": [
    {
     "name": "stdout",
     "output_type": "stream",
     "text": [
      "Model: \"HappyModel\"\n",
      "_________________________________________________________________\n",
      "Layer (type)                 Output Shape              Param #   \n",
      "=================================================================\n",
      "input_17 (InputLayer)        (None, 64, 64, 3)         0         \n",
      "_________________________________________________________________\n",
      "zero_padding2d_17 (ZeroPaddi (None, 70, 70, 3)         0         \n",
      "_________________________________________________________________\n",
      "conv0 (Conv2D)               (None, 64, 64, 32)        4736      \n",
      "_________________________________________________________________\n",
      "bn0 (BatchNormalization)     (None, 64, 64, 32)        128       \n",
      "_________________________________________________________________\n",
      "activation_18 (Activation)   (None, 64, 64, 32)        0         \n",
      "_________________________________________________________________\n",
      "max_pool (MaxPooling2D)      (None, 32, 32, 32)        0         \n",
      "_________________________________________________________________\n",
      "flatten_17 (Flatten)         (None, 32768)             0         \n",
      "_________________________________________________________________\n",
      "fc (Dense)                   (None, 1)                 32769     \n",
      "=================================================================\n",
      "Total params: 37,633\n",
      "Trainable params: 37,569\n",
      "Non-trainable params: 64\n",
      "_________________________________________________________________\n"
     ]
    }
   ],
   "source": [
    "happy_model.summary()"
   ]
  },
  {
   "cell_type": "code",
   "execution_count": 147,
   "metadata": {},
   "outputs": [
    {
     "data": {
      "text/plain": [
       "array([[0.]], dtype=float32)"
      ]
     },
     "execution_count": 147,
     "metadata": {},
     "output_type": "execute_result"
    },
    {
     "data": {
      "image/png": "[encoded data removed]",
      "text/plain": [
       "<Figure size 432x288 with 1 Axes>"
      ]
     },
     "metadata": {
      "needs_background": "light"
     },
     "output_type": "display_data"
    }
   ],
   "source": [
    "#checking of a Random Image\n",
    "img_path = 'images/sad3.jpg'\n",
    "img = image.load_img(img_path, target_size=(64,64))\n",
    "imshow(img)\n",
    "\n",
    "x = image.img_to_array(img)\n",
    "x = np.expand_dims(x, axis=0)\n",
    "x = preprocess_input(x)\n",
    "happy_model.predict(x)"
   ]
  },
  {
   "cell_type": "code",
   "execution_count": null,
   "metadata": {},
   "outputs": [],
   "source": []
  }
 ],
 "metadata": {
  "kernelspec": {
   "display_name": "Python 3",
   "language": "python",
   "name": "python3"
  },
  "language_info": {
   "codemirror_mode": {
    "name": "ipython",
    "version": 3
   },
   "file_extension": ".py",
   "mimetype": "text/x-python",
   "name": "python",
   "nbconvert_exporter": "python",
   "pygments_lexer": "ipython3",
   "version": "3.7.4"
  }
 },
 "nbformat": 4,
 "nbformat_minor": 2
}
